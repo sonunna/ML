{
 "cells": [
  {
   "cell_type": "code",
   "execution_count": 3,
   "id": "2f582bee",
   "metadata": {},
   "outputs": [],
   "source": [
    "import pandas as pd\n",
    "import numpy as np"
   ]
  },
  {
   "cell_type": "code",
   "execution_count": null,
   "id": "814ea6a1",
   "metadata": {},
   "outputs": [],
   "source": [
    "2A.Can you map the Risk (Risk) of contracting influenza (x) to Flu (y) i.e., whether the \n",
    "student reported flu-like symptoms in the past year?"
   ]
  },
  {
   "cell_type": "code",
   "execution_count": 4,
   "id": "9ab4626a",
   "metadata": {},
   "outputs": [],
   "source": [
    "def sigmoid(z):\n",
    "    \"\"\"Compute the sigmoid function.\"\"\"\n",
    "    return 1 / (1 + np.exp(-z))\n",
    "\n",
    "def logistic_regression(X, y, num_iterations, learning_rate):\n",
    "    \"\"\"\n",
    "    Train a logistic regression model on the given dataset.\n",
    "\n",
    "    Args:\n",
    "        X: A numpy array of shape (m, n) containing the input features.\n",
    "        y: A numpy array of shape (m, 1) containing the target labels.\n",
    "        num_iterations: An integer specifying the number of iterations to run gradient descent.\n",
    "        learning_rate: A float specifying the learning rate for gradient descent.\n",
    "\n",
    "    Returns:\n",
    "        w: A numpy array of shape (n, 1) containing the learned weights.\n",
    "        b: A float containing the learned bias term.\n",
    "    \"\"\"\n",
    "    # Initialize the parameters\n",
    "    m, n = X.shape\n",
    "    w = np.zeros((n, 1))\n",
    "    b = 0\n",
    "\n",
    "    # Run gradient descent\n",
    "    for i in range(num_iterations):\n",
    "        # Forward propagation\n",
    "        z = np.dot(X, w) + b\n",
    "        a = sigmoid(z)\n",
    "\n",
    "        # Compute the cost function\n",
    "        cost = (-1 / m) * np.sum(y * np.log(a) + (1 - y) * np.log(1 - a))\n",
    "    \n",
    "        # Backward propagation\n",
    "        dz = a - y\n",
    "        dw = (1 / m) * np.dot(X.T, dz)\n",
    "        db = (1 / m) * np.sum(dz)\n",
    "\n",
    "        # Update the parameters\n",
    "        w = w - learning_rate * dw\n",
    "        b =b - learning_rate * db\n",
    "\n",
    "    return w, b\n",
    "\n",
    "\n"
   ]
  },
  {
   "cell_type": "code",
   "execution_count": 13,
   "id": "434e7d90",
   "metadata": {},
   "outputs": [
    {
     "name": "stdout",
     "output_type": "stream",
     "text": [
      "weights:\n",
      "[[2.41086119]]\n",
      "intercept:\n",
      "-1.4470187812798396\n"
     ]
    }
   ],
   "source": [
    "# Read the Flu dataset\n",
    "df = pd.read_csv('flu_data.csv')\n",
    "df.dropna(inplace=True)\n",
    "X= df[['Risk']]\n",
    "y=df[['Flu']].to_numpy()\n",
    "#fit logistic regression model to data\n",
    "w,b= logistic_regression(X, y, num_iterations=3000, learning_rate=0.1)\n",
    "print(\"weights:\")\n",
    "print(w)\n",
    "print(\"intercept:\")\n",
    "print(b)\n"
   ]
  },
  {
   "cell_type": "markdown",
   "id": "275c5b00",
   "metadata": {},
   "source": [
    "2B. Evaluate performance using a metric discussed in class (such as confusion matrix). You\n",
    "may also use graphs for explaining your observations."
   ]
  },
  {
   "cell_type": "code",
   "execution_count": 7,
   "id": "8191c086",
   "metadata": {},
   "outputs": [],
   "source": [
    "def predict(X,y,w, b):\n",
    "    \"\"\"\n",
    "    Predict the target labels for a given set of input features using the learned weights and bias.\n",
    "\n",
    "    Args:\n",
    "        X: A numpy array of shape (m, n) containing the input features.\n",
    "        w: A numpy array of shape (n, 1) containing the learned weights.\n",
    "        b: A float containing the learned bias term.\n",
    "\n",
    "    Returns:\n",
    "        y_pred: A numpy array of shape (m, 1) containing the predicted target labels.\n",
    "    \"\"\"\n",
    "    # Compute the linear combination of the input features and the learned weights\n",
    "    z = np.dot(X, w) + b\n",
    "\n",
    "    # Compute the sigmoid of z\n",
    "    a = sigmoid(z)\n",
    "\n",
    "    # Threshold the predicted values at 0.5\n",
    "    y_pred = (a >= 0.5).astype(int)\n",
    "    accuracy = np.mean(y_pred == y)\n",
    "\n",
    "    return accuracy"
   ]
  },
  {
   "cell_type": "code",
   "execution_count": 14,
   "id": "1388d444",
   "metadata": {},
   "outputs": [
    {
     "name": "stdout",
     "output_type": "stream",
     "text": [
      "accuracy of the model:\n",
      "0.8148148148148148\n"
     ]
    }
   ],
   "source": [
    "accuracy=predict(X,y,w,b)\n",
    "print('accuracy of the model:')\n",
    "print(accuracy)"
   ]
  },
  {
   "cell_type": "code",
   "execution_count": 38,
   "id": "99833335",
   "metadata": {},
   "outputs": [],
   "source": []
  },
  {
   "cell_type": "code",
   "execution_count": null,
   "id": "d2a52e4f",
   "metadata": {},
   "outputs": [],
   "source": []
  }
 ],
 "metadata": {
  "kernelspec": {
   "display_name": "Python 3 (ipykernel)",
   "language": "python",
   "name": "python3"
  },
  "language_info": {
   "codemirror_mode": {
    "name": "ipython",
    "version": 3
   },
   "file_extension": ".py",
   "mimetype": "text/x-python",
   "name": "python",
   "nbconvert_exporter": "python",
   "pygments_lexer": "ipython3",
   "version": "3.9.13"
  }
 },
 "nbformat": 4,
 "nbformat_minor": 5
}
