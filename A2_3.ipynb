{
 "cells": [
  {
   "cell_type": "code",
   "execution_count": 26,
   "id": "5d56eba9",
   "metadata": {},
   "outputs": [],
   "source": [
    "import pandas as pd\n",
    "import matplotlib.pyplot as plt\n",
    "from mpl_toolkits.mplot3d import Axes3D\n",
    "import numpy as np\n",
    "from sklearn.preprocessing import LabelEncoder"
   ]
  },
  {
   "cell_type": "code",
   "execution_count": 37,
   "id": "3cedc806",
   "metadata": {},
   "outputs": [],
   "source": [
    "def sigmoid(z):\n",
    "    \"\"\"Compute the sigmoid function.\"\"\"\n",
    "    return 1 / (1 + np.exp(-z))\n",
    "\n",
    "def logistic_regression(X, y, num_iterations, learning_rate):\n",
    "    \"\"\"\n",
    "    Train a logistic regression model on the given dataset.\n",
    "\n",
    "    Args:\n",
    "        X: A numpy array of shape (m, n) containing the input features.\n",
    "        y: A numpy array of shape (m, 1) containing the target labels.\n",
    "        num_iterations: An integer specifying the number of iterations to run gradient descent.\n",
    "        learning_rate: A float specifying the learning rate for gradient descent.\n",
    "\n",
    "    Returns:\n",
    "        w: A numpy array of shape (n, 1) containing the learned weights.\n",
    "        b: A float containing the learned bias term.\n",
    "    \"\"\"\n",
    "    # Initialize the parameters\n",
    "    m, n = X.shape\n",
    "    w = np.zeros((n, 1))\n",
    "    b = 0\n",
    "\n",
    "    # Run gradient descent\n",
    "    for i in range(num_iterations):\n",
    "        # Forward propagation\n",
    "        z = np.dot(X, w) + b\n",
    "        a = sigmoid(z)\n",
    "\n",
    "        # Compute the cost function\n",
    "        cost = (-1 / m) * np.sum(y * np.log(a) + (1 - y) * np.log(1 - a))\n",
    "\n",
    "        # Backward propagation\n",
    "        dz = a - y\n",
    "        dw = (1 / m) * np.dot(X.T, dz)\n",
    "        db = (1 / m) * np.sum(dz)\n",
    "\n",
    "        # Update the parameters\n",
    "        w = w - learning_rate * dw\n",
    "        b =b - learning_rate * db\n",
    "\n",
    "    return w, b\n"
   ]
  },
  {
   "cell_type": "code",
   "execution_count": 41,
   "id": "dbf2844e",
   "metadata": {},
   "outputs": [],
   "source": [
    "def predict(X, w, b):\n",
    "    \"\"\"\n",
    "    Predict the target labels for a given set of input features using the learned weights and bias.\n",
    "\n",
    "    Args:\n",
    "        X: A numpy array of shape (m, n) containing the input features.\n",
    "        w: A numpy array of shape (n, 1) containing the learned weights.\n",
    "        b: A float containing the learned bias term.\n",
    "\n",
    "    Returns:\n",
    "        y_pred: A numpy array of shape (m, 1) containing the predicted target labels.\n",
    "    \"\"\"\n",
    "    # Compute the linear combination of the input features and the learned weights\n",
    "    z = np.dot(X, w) + b\n",
    "\n",
    "    # Compute the sigmoid of z\n",
    "    a = sigmoid(z)\n",
    "\n",
    "    # Threshold the predicted values at 0.5\n",
    "    y_pred = (a >= 0.5).astype(int)\n",
    "\n",
    "    return y_pred\n"
   ]
  },
  {
   "cell_type": "code",
   "execution_count": 42,
   "id": "b8c6cb99",
   "metadata": {},
   "outputs": [],
   "source": [
    "def confusion_matrix(y_true, y_pred):\n",
    "    tp = np.sum((y_true == 1) & (y_pred == 1))\n",
    "    tn = np.sum((y_true == 0) & (y_pred == 0))\n",
    "    fp = np.sum((y_true == 0) & (y_pred == 1))\n",
    "    fn = np.sum((y_true == 1) & (y_pred == 0))\n",
    "    return tp, tn, fp, fn\n",
    "\n",
    "def accuracy(tp, tn, fp, fn):\n",
    "    return (tp + tn) / (tp + tn + fp + fn)\n",
    "\n",
    "def precision(tp, tn, fp, fn):\n",
    "    return tp / (tp + fp)\n",
    "\n",
    "def recall(tp, tn, fp, fn):\n",
    "    return tp / (tp + fn)\n",
    "\n",
    "def f1_score(p,r):\n",
    "    return 2 * (p * r) / (p + r)\n",
    "\n"
   ]
  },
  {
   "cell_type": "code",
   "execution_count": null,
   "id": "e6ca7635",
   "metadata": {},
   "outputs": [],
   "source": []
  },
  {
   "cell_type": "code",
   "execution_count": 46,
   "id": "d3f3ce3f",
   "metadata": {},
   "outputs": [
    {
     "name": "stdout",
     "output_type": "stream",
     "text": [
      "0 283 0 68\n"
     ]
    }
   ],
   "source": [
    "# Read the Flu dataset\n",
    "df = pd.read_csv('flu_data.csv')\n",
    "df.dropna(inplace=True)\n",
    "le = LabelEncoder()\n",
    "df.Female= le.fit_transform(df.Female.values)\n",
    "df.Flu= le.fit_transform(df.Flu.values)\n",
    "df.Sick= le.fit_transform(df.Sick.values)\n",
    "df.head(10)\n",
    "X= df[['Risk']]\n",
    "#X= df[['Vaccin','HndWshQual','HndWshFreq','SociDist','NoFaceContact','RespEttiqu','PersnDist','HandSanit','Risk','Inefficacy','KnowlTrans','KnowlMgmt']].to_numpy()\n",
    "y=df[['Flu']].to_numpy()\n",
    "#print(X)\n",
    "#print(y)\n",
    "#fit logistic regression model to data\n",
    "w,b= logistic_regression(X, y, num_iterations=10, learning_rate=0.01)\n",
    "y_pred=predict(X,w,b)\n",
    "tp, tn, fp, fn = confusion_matrix(y, y_pred)\n",
    "print(tp, tn, fp, fn)\n",
    "#print(accuracy(tp, tn, fp, fn))\n",
    "#print(precision(tp, tn, fp, fn))\n",
    "#print(recall(tp, tn, fp, fn))\n",
    "#print(f1_score(precision(tp, tn, fp, fn),recall(tp, tn, fp, fn)))"
   ]
  },
  {
   "cell_type": "code",
   "execution_count": null,
   "id": "f8e55b17",
   "metadata": {},
   "outputs": [],
   "source": []
  },
  {
   "cell_type": "code",
   "execution_count": null,
   "id": "7f6f79ca",
   "metadata": {},
   "outputs": [],
   "source": []
  },
  {
   "cell_type": "code",
   "execution_count": null,
   "id": "9fa897bb",
   "metadata": {},
   "outputs": [],
   "source": []
  },
  {
   "cell_type": "code",
   "execution_count": null,
   "id": "8da1870b",
   "metadata": {},
   "outputs": [],
   "source": []
  },
  {
   "cell_type": "code",
   "execution_count": null,
   "id": "d8e3c11a",
   "metadata": {},
   "outputs": [],
   "source": []
  }
 ],
 "metadata": {
  "kernelspec": {
   "display_name": "Python 3 (ipykernel)",
   "language": "python",
   "name": "python3"
  },
  "language_info": {
   "codemirror_mode": {
    "name": "ipython",
    "version": 3
   },
   "file_extension": ".py",
   "mimetype": "text/x-python",
   "name": "python",
   "nbconvert_exporter": "python",
   "pygments_lexer": "ipython3",
   "version": "3.9.13"
  }
 },
 "nbformat": 4,
 "nbformat_minor": 5
}
