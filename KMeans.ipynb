{
 "cells": [
  {
   "cell_type": "code",
   "execution_count": 141,
   "metadata": {},
   "outputs": [
    {
     "ename": "SyntaxError",
     "evalue": "invalid syntax (<ipython-input-141-912ba5e1964f>, line 6)",
     "output_type": "error",
     "traceback": [
      "\u001b[1;36m  File \u001b[1;32m\"<ipython-input-141-912ba5e1964f>\"\u001b[1;36m, line \u001b[1;32m6\u001b[0m\n\u001b[1;33m    centroids=[[-0.523 5 1],[ 0 2 1]]\u001b[0m\n\u001b[1;37m                       ^\u001b[0m\n\u001b[1;31mSyntaxError\u001b[0m\u001b[1;31m:\u001b[0m invalid syntax\n"
     ]
    }
   ],
   "source": [
    "import numpy as np\n",
    "\n",
    "def kmeans(dataToBeClustered, noOfClusters, iterations=100):\n",
    "    n, m = dataToBeClustered.shape\n",
    "    #centroids = dataToBeClustered[np.random.choice(n, noOfClusters, replace=False), :]\n",
    "    centroids=[[-0.523 5 1],[ 0 2 1]]\n",
    "    print(centroids)\n",
    "    clusters = [[] for _ in range(noOfClusters)]\n",
    "    for iteration in range(iterations):\n",
    "        for i in range(n):\n",
    "            distances = np.linalg.norm(dataToBeClustered[i, :] - centroids, axis=1)\n",
    "            closest_centroid = np.argmin(distances)\n",
    "            clusters[closest_centroid].append(i)\n",
    "        for j in range(noOfClusters):\n",
    "            if clusters[j]:\n",
    "                centroids[j, :] = np.mean(dataToBeClustered[clusters[j], :], axis=0)\n",
    "    return clusters, centroids\n",
    "\n"
   ]
  },
  {
   "cell_type": "code",
   "execution_count": 77,
   "metadata": {},
   "outputs": [],
   "source": [
    "def calcDunnIndex(points, cluster):\n",
    "\n",
    "    # points -- all data points\n",
    "    # cluster -- cluster centroids\n",
    "\n",
    "    \n",
    "    numer = float('inf')\n",
    "    for c in cluster: # for each cluster\n",
    "        for t in cluster: # for each cluster\n",
    "           # print(t, c)\n",
    "            if (t == c).all(): continue # if same cluster, ignore\n",
    "            ndis = findDistance(t, c)\n",
    "            numer = numer if numer < ndis else ndis # find distance between centroids\n",
    "            \n",
    "    denom = 0\n",
    "    for c in cluster: # for each cluster\n",
    "        for p in points: # for each point\n",
    "            for t in points: # for each point\n",
    "                if (t == p).all(): continue # if same point, ignore\n",
    "                ddis = findDistance(t, p)\n",
    "            #    print('Denominator', denominator, ddis)\n",
    "                denom = denom if denom > ddis else ddis\n",
    "                \n",
    "    return numer/denom\n"
   ]
  },
  {
   "cell_type": "code",
   "execution_count": 78,
   "metadata": {},
   "outputs": [],
   "source": [
    "def findDistance(point1, point2):\n",
    "    \n",
    "    eucDis = 0\n",
    "    for i in range(len(point1)):\n",
    "        eucDis = eucDis + (point1[i] - point2[i])**2\n",
    " \n",
    "    return eucDis**0.5 "
   ]
  },
  {
   "cell_type": "code",
   "execution_count": 140,
   "metadata": {},
   "outputs": [
    {
     "name": "stdout",
     "output_type": "stream",
     "text": [
      "[[-0.523, 5, 1], [0, 2, 1]]\n"
     ]
    },
    {
     "ename": "TypeError",
     "evalue": "list indices must be integers or slices, not tuple",
     "output_type": "error",
     "traceback": [
      "\u001b[1;31m---------------------------------------------------------------------------\u001b[0m",
      "\u001b[1;31mTypeError\u001b[0m                                 Traceback (most recent call last)",
      "\u001b[1;32m<ipython-input-140-4c0084a3140a>\u001b[0m in \u001b[0;36m<module>\u001b[1;34m\u001b[0m\n\u001b[0;32m     11\u001b[0m \u001b[1;33m\u001b[0m\u001b[0m\n\u001b[0;32m     12\u001b[0m \u001b[1;31m# Apply k-means clustering with k = 2\u001b[0m\u001b[1;33m\u001b[0m\u001b[1;33m\u001b[0m\u001b[1;33m\u001b[0m\u001b[0m\n\u001b[1;32m---> 13\u001b[1;33m \u001b[0mclusters\u001b[0m\u001b[1;33m,\u001b[0m \u001b[0mcentroids\u001b[0m \u001b[1;33m=\u001b[0m \u001b[0mkmeans\u001b[0m\u001b[1;33m(\u001b[0m\u001b[0mdata\u001b[0m\u001b[1;33m,\u001b[0m\u001b[1;36m2\u001b[0m\u001b[1;33m,\u001b[0m\u001b[1;36m10\u001b[0m\u001b[1;33m)\u001b[0m\u001b[1;33m\u001b[0m\u001b[1;33m\u001b[0m\u001b[0m\n\u001b[0m\u001b[0;32m     14\u001b[0m \u001b[0mdi\u001b[0m\u001b[1;33m=\u001b[0m\u001b[0mcalcDunnIndex\u001b[0m\u001b[1;33m(\u001b[0m\u001b[0mdata\u001b[0m\u001b[1;33m,\u001b[0m\u001b[0mcentroids\u001b[0m\u001b[1;33m)\u001b[0m\u001b[1;33m\u001b[0m\u001b[1;33m\u001b[0m\u001b[0m\n\u001b[0;32m     15\u001b[0m \u001b[0mprint\u001b[0m\u001b[1;33m(\u001b[0m\u001b[0mdi\u001b[0m\u001b[1;33m)\u001b[0m\u001b[1;33m\u001b[0m\u001b[1;33m\u001b[0m\u001b[0m\n",
      "\u001b[1;32m<ipython-input-139-746112a2c943>\u001b[0m in \u001b[0;36mkmeans\u001b[1;34m(dataToBeClustered, noOfClusters, iterations)\u001b[0m\n\u001b[0;32m     14\u001b[0m         \u001b[1;32mfor\u001b[0m \u001b[0mj\u001b[0m \u001b[1;32min\u001b[0m \u001b[0mrange\u001b[0m\u001b[1;33m(\u001b[0m\u001b[0mnoOfClusters\u001b[0m\u001b[1;33m)\u001b[0m\u001b[1;33m:\u001b[0m\u001b[1;33m\u001b[0m\u001b[1;33m\u001b[0m\u001b[0m\n\u001b[0;32m     15\u001b[0m             \u001b[1;32mif\u001b[0m \u001b[0mclusters\u001b[0m\u001b[1;33m[\u001b[0m\u001b[0mj\u001b[0m\u001b[1;33m]\u001b[0m\u001b[1;33m:\u001b[0m\u001b[1;33m\u001b[0m\u001b[1;33m\u001b[0m\u001b[0m\n\u001b[1;32m---> 16\u001b[1;33m                 \u001b[0mcentroids\u001b[0m\u001b[1;33m[\u001b[0m\u001b[0mj\u001b[0m\u001b[1;33m,\u001b[0m \u001b[1;33m:\u001b[0m\u001b[1;33m]\u001b[0m \u001b[1;33m=\u001b[0m \u001b[0mnp\u001b[0m\u001b[1;33m.\u001b[0m\u001b[0mmean\u001b[0m\u001b[1;33m(\u001b[0m\u001b[0mdataToBeClustered\u001b[0m\u001b[1;33m[\u001b[0m\u001b[0mclusters\u001b[0m\u001b[1;33m[\u001b[0m\u001b[0mj\u001b[0m\u001b[1;33m]\u001b[0m\u001b[1;33m,\u001b[0m \u001b[1;33m:\u001b[0m\u001b[1;33m]\u001b[0m\u001b[1;33m,\u001b[0m \u001b[0maxis\u001b[0m\u001b[1;33m=\u001b[0m\u001b[1;36m0\u001b[0m\u001b[1;33m)\u001b[0m\u001b[1;33m\u001b[0m\u001b[1;33m\u001b[0m\u001b[0m\n\u001b[0m\u001b[0;32m     17\u001b[0m     \u001b[1;32mreturn\u001b[0m \u001b[0mclusters\u001b[0m\u001b[1;33m,\u001b[0m \u001b[0mcentroids\u001b[0m\u001b[1;33m\u001b[0m\u001b[1;33m\u001b[0m\u001b[0m\n\u001b[0;32m     18\u001b[0m \u001b[1;33m\u001b[0m\u001b[0m\n",
      "\u001b[1;31mTypeError\u001b[0m: list indices must be integers or slices, not tuple"
     ]
    }
   ],
   "source": [
    "import pandas as pd\n",
    "import matplotlib.pyplot as plt\n",
    "from mpl_toolkits.mplot3d import Axes3D\n",
    "from scipy.spatial.distance import cdist\n",
    "# Read the Flu dataset\n",
    "df = pd.read_csv('flu_data.csv')\n",
    "df.dropna(inplace=True)\n",
    "colors = ['r','g','b','c','k','m','w','y',]\n",
    "# Select the features for clustering\n",
    "data = df[['Risk', 'NoFaceContact', 'Sick']].to_numpy()\n",
    "\n",
    "# Apply k-means clustering with k = 2\n",
    "clusters, centroids = kmeans(data,2,10)\n",
    "di=calcDunnIndex(data,centroids)\n",
    "print(di)\n",
    "fig = plt.figure()\n",
    "ax = fig.add_subplot(111, projection='3d')\n",
    "for i, cluster in enumerate(clusters):\n",
    "    ax.scatter(data[cluster, 0], data[cluster, 1], data[cluster, 2], c=colors[i])\n",
    "ax.set_xlabel('Risk')\n",
    "ax.set_ylabel('NoFaceContact')\n",
    "ax.set_zlabel('Sick')\n",
    "plt.show()\n"
   ]
  },
  {
   "cell_type": "code",
   "execution_count": 92,
   "metadata": {},
   "outputs": [],
   "source": [
    "import pandas as pd\n",
    "import matplotlib.pyplot as plt\n",
    "import seaborn as sns\n",
    "import matplotlib.pyplot as plt\n",
    "# Read the Flu dataset\n",
    "df = pd.read_csv('flu_data.csv')\n",
    "df.dropna(inplace=True)\n",
    "colors = ['r','g','b','c','k','m','w','y',]\n",
    "df=df.head(10)\n",
    "# Select the features for clustering\n",
    "data = df[['Risk', 'NoFaceContact', 'Sick']].to_numpy()\n",
    "\n",
    "df2=pd.DataFrame(data,columns=['Risk', 'NoFaceContact', 'Sick'])\n",
    "corr=df2.corr()\n"
   ]
  },
  {
   "cell_type": "code",
   "execution_count": 98,
   "metadata": {},
   "outputs": [
    {
     "data": {
      "text/plain": [
       "<AxesSubplot:>"
      ]
     },
     "execution_count": 98,
     "metadata": {},
     "output_type": "execute_result"
    },
    {
     "data": {
      "image/png": "[encoded data removed]",
      "text/plain": [
       "<Figure size 432x432 with 2 Axes>"
      ]
     },
     "metadata": {
      "needs_background": "light"
     },
     "output_type": "display_data"
    }
   ],
   "source": [
    "fig, ax = plt.subplots(figsize=(6,6))\n",
    "sns.heatmap(corr,cmap='RdYlGn',annot=True)"
   ]
  },
  {
   "cell_type": "code",
   "execution_count": 99,
   "metadata": {},
   "outputs": [],
   "source": [
    "def fuzzy_cmeans(data, k, m, max_iter=100):\n",
    "    \"\"\"\n",
    "    Fuzzy C-means clustering algorithm.\n",
    "    \n",
    "    Parameters:\n",
    "    - data: numpy array with the data points (n x m)\n",
    "    - k: number of clusters\n",
    "    - m: fuzziness parameter\n",
    "    - max_iter: maximum number of iterations\n",
    "    \n",
    "    Returns:\n",
    "    - clusters: numpy array with the fuzzy membership of each point to each cluster (n x k)\n",
    "    - centroids: numpy array with the k cluster centroids (k x m)\n",
    "    \"\"\"\n",
    "    n, _ = data.shape\n",
    "    # Initialize centroids randomly\n",
    "    centroids = data[np.random.choice(n, k, replace=False), :]\n",
    "    # Initialize fuzzy membership randomly\n",
    "    membership = np.random.rand(n, k)\n",
    "    membership /= np.sum(membership, axis=1, keepdims=True)\n",
    "    for _ in range(max_iter):\n",
    "        # Update centroids\n",
    "        for j in range(k):\n",
    "            centroids[j, :] = np.sum(membership[:, j, np.newaxis] * data, axis=0) / np.sum(membership[:, j])\n",
    "        # Update fuzzy membership\n",
    "        for i in range(n):\n",
    "            distances = np.linalg.norm(data[i, :] - centroids, axis=1)\n",
    "            for j in range(k):\n",
    "                membership[i, j] = 1 / np.sum((distances / distances[j]) ** (2 / (m - 1)))\n",
    "    return membership, centroids"
   ]
  },
  {
   "cell_type": "code",
   "execution_count": 127,
   "metadata": {},
   "outputs": [
    {
     "name": "stdout",
     "output_type": "stream",
     "text": [
      "0.04424904710208379\n"
     ]
    }
   ],
   "source": [
    "import pandas as pd\n",
    "import matplotlib.pyplot as plt\n",
    "from mpl_toolkits.mplot3d import Axes3D\n",
    "from scipy.spatial.distance import cdist\n",
    "# Read the Flu dataset\n",
    "df = pd.read_csv('flu_data.csv')\n",
    "df.dropna(inplace=True)\n",
    "colors = ['r','g','b','c','k','m','w','y',]\n",
    "\n",
    "# Select the features for clustering\n",
    "data = df[['Risk', 'NoFaceContact', 'Sick']].to_numpy()\n",
    "\n",
    "# Apply k-means clustering with k = 2\n",
    "memberships, centroids = fuzzy_cmeans(data,k=2,m=2,max_iter=10)\n",
    "di=calcDunnIndex(data,centroids)\n",
    "print(di)\n",
    "\n"
   ]
  },
  {
   "cell_type": "code",
   "execution_count": 122,
   "metadata": {},
   "outputs": [
    {
     "data": {
      "text/plain": [
       "array([1, 1, 1, 0, 0, 0, 0, 1, 1, 0], dtype=int64)"
      ]
     },
     "execution_count": 122,
     "metadata": {},
     "output_type": "execute_result"
    }
   ],
   "source": [
    "harden_assignment(memberships)"
   ]
  },
  {
   "cell_type": "code",
   "execution_count": 121,
   "metadata": {},
   "outputs": [],
   "source": [
    "import numpy as np\n",
    "\n",
    "def harden_assignment(fuzzy_membership_matrix):\n",
    "    # convert the fuzzy membership values into hard assignments\n",
    "    hard_assignments = np.argmax(fuzzy_membership_matrix, axis=1)\n",
    "    return hard_assignments\n",
    "\n",
    "\n"
   ]
  },
  {
   "cell_type": "code",
   "execution_count": null,
   "metadata": {},
   "outputs": [],
   "source": []
  },
  {
   "cell_type": "code",
   "execution_count": null,
   "metadata": {},
   "outputs": [],
   "source": []
  },
  {
   "cell_type": "code",
   "execution_count": null,
   "metadata": {},
   "outputs": [],
   "source": []
  },
  {
   "cell_type": "code",
   "execution_count": 45,
   "metadata": {},
   "outputs": [
    {
     "data": {
      "image/png": "[encoded data removed]",
      "text/plain": [
       "<Figure size 432x288 with 1 Axes>"
      ]
     },
     "metadata": {
      "needs_background": "light"
     },
     "output_type": "display_data"
    }
   ],
   "source": [
    "#finding K value\n",
    "inertias = []\n",
    "\n",
    "for i in range(1,9):\n",
    "    kmeans = KMeans(n_clusters=i)\n",
    "    kmeans.fit(df2)\n",
    "    inertias.append(kmeans.inertia_)\n",
    "\n",
    "plt.plot(range(1,9), inertias, marker='*')\n",
    "plt.title('Elbow method')\n",
    "plt.xlabel('Number of clusters')\n",
    "plt.ylabel('Inertia')\n",
    "plt.show()"
   ]
  },
  {
   "cell_type": "code",
   "execution_count": null,
   "metadata": {},
   "outputs": [],
   "source": []
  },
  {
   "cell_type": "code",
   "execution_count": null,
   "metadata": {},
   "outputs": [],
   "source": []
  },
  {
   "cell_type": "code",
   "execution_count": null,
   "metadata": {},
   "outputs": [],
   "source": []
  },
  {
   "cell_type": "code",
   "execution_count": null,
   "metadata": {},
   "outputs": [],
   "source": []
  },
  {
   "cell_type": "code",
   "execution_count": null,
   "metadata": {},
   "outputs": [],
   "source": []
  },
  {
   "cell_type": "code",
   "execution_count": null,
   "metadata": {},
   "outputs": [],
   "source": []
  }
 ],
 "metadata": {
  "kernelspec": {
   "display_name": "Python 3",
   "language": "python",
   "name": "python3"
  },
  "language_info": {
   "codemirror_mode": {
    "name": "ipython",
    "version": 3
   },
   "file_extension": ".py",
   "mimetype": "text/x-python",
   "name": "python",
   "nbconvert_exporter": "python",
   "pygments_lexer": "ipython3",
   "version": "3.8.5"
  }
 },
 "nbformat": 4,
 "nbformat_minor": 5
}
