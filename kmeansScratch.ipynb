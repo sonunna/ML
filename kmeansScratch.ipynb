{
 "cells": [
  {
   "cell_type": "code",
   "execution_count": 59,
   "id": "b91390c8",
   "metadata": {},
   "outputs": [],
   "source": [
    "def centroidofpoints(cpoints):\n",
    "    x = [x[0] for x in cpoints]\n",
    "    y= [y[1] for y in cpoints]\n",
    "    l=len(x)\n",
    "    return [(sum(x)/l, sum(y)/l)]"
   ]
  },
  {
   "cell_type": "code",
   "execution_count": null,
   "id": "93e55823",
   "metadata": {},
   "outputs": [],
   "source": [
    "def updateCentroid(newCentroid):\n",
    "    c=[]\n",
    "    for i in range(0,len(newCentroid)):\n",
    "        c.append(newCentroid[i])\n",
    "    return c\n",
    "    "
   ]
  },
  {
   "cell_type": "code",
   "execution_count": null,
   "id": "4272c2c1",
   "metadata": {},
   "outputs": [],
   "source": [
    "def clusterAssignment(c,cpoints):\n",
    "    clusterList=[]\n",
    "    cSize=len(cpoints)\n",
    "    for i in range(0,cSize):\n",
    "        dist=[]\n",
    "        for j in range(0,len(c)):\n",
    "            dist.append(round(math.dist(c[j],cpoints[i]),3))\n",
    "        cluster=findPos(dist)\n",
    "        clusterList.append(cluster)    \n",
    "    return clusterList\n",
    "    \n",
    "    "
   ]
  },
  {
   "cell_type": "code",
   "execution_count": null,
   "id": "606f7501",
   "metadata": {},
   "outputs": [],
   "source": [
    "def findPos(dis):\n",
    "    pos=dis.index(min(dis))\n",
    "    return po"
   ]
  },
  {
   "cell_type": "code",
   "execution_count": 60,
   "id": "5dad233f",
   "metadata": {},
   "outputs": [
    {
     "data": {
      "text/plain": [
       "[(2.0, 1.0)]"
      ]
     },
     "execution_count": 60,
     "metadata": {},
     "output_type": "execute_result"
    }
   ],
   "source": [
    "centroid([(0,0),(1,1),(5,2)])"
   ]
  },
  {
   "cell_type": "code",
   "execution_count": 62,
   "id": "136a1032",
   "metadata": {},
   "outputs": [],
   "source": [
    "c=[(0,0),(1,1),(2,2)]\n",
    "c=updateCentroid([(1,0),(2,1),(3,2)])"
   ]
  },
  {
   "cell_type": "code",
   "execution_count": 23,
   "id": "de20c4a5",
   "metadata": {},
   "outputs": [],
   "source": [
    "import math\n",
    "import pandas as pd\n",
    "clusters=[]\n",
    "x = [4, 5, 10, 4, 3, 11, 14 , 8, 10, 12]\n",
    "y = [21, 19, 24, 17, 16, 25, 24, 22, 21, 21]\n",
    "c=[(11,22),(4,18)]\n",
    "data = list(zip(x, y))\n",
    "clusters=clusterPoints(c,data)\n"
   ]
  },
  {
   "cell_type": "code",
   "execution_count": 24,
   "id": "d9824583",
   "metadata": {},
   "outputs": [],
   "source": [
    "df=pd.DataFrame(data)"
   ]
  },
  {
   "cell_type": "code",
   "execution_count": 26,
   "id": "5d1558f0",
   "metadata": {},
   "outputs": [],
   "source": [
    "df['clusters']=clusters"
   ]
  },
  {
   "cell_type": "code",
   "execution_count": 27,
   "id": "ad418d59",
   "metadata": {},
   "outputs": [
    {
     "data": {
      "text/html": [
       "<div>\n",
       "<style scoped>\n",
       "    .dataframe tbody tr th:only-of-type {\n",
       "        vertical-align: middle;\n",
       "    }\n",
       "\n",
       "    .dataframe tbody tr th {\n",
       "        vertical-align: top;\n",
       "    }\n",
       "\n",
       "    .dataframe thead th {\n",
       "        text-align: right;\n",
       "    }\n",
       "</style>\n",
       "<table border=\"1\" class=\"dataframe\">\n",
       "  <thead>\n",
       "    <tr style=\"text-align: right;\">\n",
       "      <th></th>\n",
       "      <th>0</th>\n",
       "      <th>1</th>\n",
       "      <th>clusters</th>\n",
       "    </tr>\n",
       "  </thead>\n",
       "  <tbody>\n",
       "    <tr>\n",
       "      <th>0</th>\n",
       "      <td>4</td>\n",
       "      <td>21</td>\n",
       "      <td>1</td>\n",
       "    </tr>\n",
       "    <tr>\n",
       "      <th>1</th>\n",
       "      <td>5</td>\n",
       "      <td>19</td>\n",
       "      <td>1</td>\n",
       "    </tr>\n",
       "    <tr>\n",
       "      <th>2</th>\n",
       "      <td>10</td>\n",
       "      <td>24</td>\n",
       "      <td>0</td>\n",
       "    </tr>\n",
       "    <tr>\n",
       "      <th>3</th>\n",
       "      <td>4</td>\n",
       "      <td>17</td>\n",
       "      <td>1</td>\n",
       "    </tr>\n",
       "    <tr>\n",
       "      <th>4</th>\n",
       "      <td>3</td>\n",
       "      <td>16</td>\n",
       "      <td>1</td>\n",
       "    </tr>\n",
       "  </tbody>\n",
       "</table>\n",
       "</div>"
      ],
      "text/plain": [
       "    0   1  clusters\n",
       "0   4  21         1\n",
       "1   5  19         1\n",
       "2  10  24         0\n",
       "3   4  17         1\n",
       "4   3  16         1"
      ]
     },
     "execution_count": 27,
     "metadata": {},
     "output_type": "execute_result"
    }
   ],
   "source": [
    "df.head()"
   ]
  },
  {
   "cell_type": "code",
   "execution_count": 28,
   "id": "4b9e423b",
   "metadata": {},
   "outputs": [
    {
     "data": {
      "text/html": [
       "<div>\n",
       "<style scoped>\n",
       "    .dataframe tbody tr th:only-of-type {\n",
       "        vertical-align: middle;\n",
       "    }\n",
       "\n",
       "    .dataframe tbody tr th {\n",
       "        vertical-align: top;\n",
       "    }\n",
       "\n",
       "    .dataframe thead th {\n",
       "        text-align: right;\n",
       "    }\n",
       "</style>\n",
       "<table border=\"1\" class=\"dataframe\">\n",
       "  <thead>\n",
       "    <tr style=\"text-align: right;\">\n",
       "      <th></th>\n",
       "      <th>x</th>\n",
       "    </tr>\n",
       "  </thead>\n",
       "  <tbody>\n",
       "    <tr>\n",
       "      <th>0</th>\n",
       "      <td>4</td>\n",
       "    </tr>\n",
       "    <tr>\n",
       "      <th>1</th>\n",
       "      <td>5</td>\n",
       "    </tr>\n",
       "    <tr>\n",
       "      <th>2</th>\n",
       "      <td>10</td>\n",
       "    </tr>\n",
       "    <tr>\n",
       "      <th>3</th>\n",
       "      <td>4</td>\n",
       "    </tr>\n",
       "    <tr>\n",
       "      <th>4</th>\n",
       "      <td>3</td>\n",
       "    </tr>\n",
       "    <tr>\n",
       "      <th>5</th>\n",
       "      <td>11</td>\n",
       "    </tr>\n",
       "    <tr>\n",
       "      <th>6</th>\n",
       "      <td>14</td>\n",
       "    </tr>\n",
       "    <tr>\n",
       "      <th>7</th>\n",
       "      <td>8</td>\n",
       "    </tr>\n",
       "    <tr>\n",
       "      <th>8</th>\n",
       "      <td>10</td>\n",
       "    </tr>\n",
       "    <tr>\n",
       "      <th>9</th>\n",
       "      <td>12</td>\n",
       "    </tr>\n",
       "  </tbody>\n",
       "</table>\n",
       "</div>"
      ],
      "text/plain": [
       "    x\n",
       "0   4\n",
       "1   5\n",
       "2  10\n",
       "3   4\n",
       "4   3\n",
       "5  11\n",
       "6  14\n",
       "7   8\n",
       "8  10\n",
       "9  12"
      ]
     },
     "execution_count": 28,
     "metadata": {},
     "output_type": "execute_result"
    }
   ],
   "source": [
    "df1=pd.DataFrame()\n",
    "df1['x']=x\n"
   ]
  },
  {
   "cell_type": "code",
   "execution_count": null,
   "id": "18e9d9b3",
   "metadata": {},
   "outputs": [],
   "source": []
  }
 ],
 "metadata": {
  "kernelspec": {
   "display_name": "Python 3",
   "language": "python",
   "name": "python3"
  },
  "language_info": {
   "codemirror_mode": {
    "name": "ipython",
    "version": 3
   },
   "file_extension": ".py",
   "mimetype": "text/x-python",
   "name": "python",
   "nbconvert_exporter": "python",
   "pygments_lexer": "ipython3",
   "version": "3.8.8"
  }
 },
 "nbformat": 4,
 "nbformat_minor": 5
}
